{
 "cells": [
  {
   "cell_type": "code",
   "execution_count": null,
   "metadata": {},
   "outputs": [],
   "source": [
    "import pandas as pd\n",
    "\n",
    "# Carga de datos\n",
    "data_aviones = pd.read_excel('ruta_del_archivo.xlsx', sheet_name='DatosLlegadaAviones')\n",
    "data_aviones['Fecha de Llegada'] = pd.to_datetime(data_aviones['Fecha de Llegada'])\n",
    "data_aviones.sort_values('Fecha de Llegada', inplace=True)\n",
    "\n",
    "# Cálculo de tiempos entre arribos\n",
    "data_aviones['Tiempo entre arribos'] = data_aviones['Fecha de Llegada'].diff().dt.total_seconds() / 60  # Convertido a minutos\n",
    "\n",
    "# Definición de franjas horarias\n",
    "bins = [0, 6, 11, 15, 21, 24]\n",
    "labels = ['9:00 pm - 6:00 am', '6:00 am - 11:00 am', '11:00 am - 3:00 pm', '3:00 pm - 9:00 pm', '9:00 pm - 6:00 am']\n",
    "data_aviones['Franja Horaria'] = pd.cut(data_aviones['Fecha de Llegada'].dt.hour, bins=bins, labels=labels, right=False)\n",
    "\n",
    "# Estadísticas descriptivas por franja horaria\n",
    "tiempos_estadisticas = data_aviones.groupby('Franja Horaria')['Tiempo entre arribos'].describe()\n"
   ]
  }
 ],
 "metadata": {
  "language_info": {
   "name": "python"
  }
 },
 "nbformat": 4,
 "nbformat_minor": 2
}
